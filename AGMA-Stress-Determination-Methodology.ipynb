{
 "cells": [
  {
   "cell_type": "code",
   "execution_count": 1,
   "metadata": {},
   "outputs": [],
   "source": [
    "import math"
   ]
  },
  {
   "cell_type": "code",
   "execution_count": 2,
   "metadata": {},
   "outputs": [],
   "source": [
    "def keyway_t2(D):\n",
    "    if D > 6e-3 and D <= 8e-3:\n",
    "        return 1e-3\n",
    "    if D > 8e-3 and D <= 10e-3:\n",
    "        return 1.4e-3\n",
    "    if D > 10e-3 and D <= 12e-3:\n",
    "        return 1.8e-3\n",
    "    if D > 12e-3 and D <= 17e-3:\n",
    "        return 2.3e-3\n",
    "    if D > 17e-3 and D <= 22e-3:\n",
    "        return 2.8e-3\n",
    "    if D > 22e-3 and D <= 30e-3:\n",
    "        return 3.3e-3\n",
    "    if D > 30e-3 and D <= 38e-3:\n",
    "        return 3.3e-3\n",
    "    if D > 38e-3 and D <= 44e-3:\n",
    "        return 3.3e-3\n",
    "    if D > 44e-3 and D <= 50e-3:\n",
    "        return 3.8e-3\n",
    "    if D > 50e-3 and D <= 58e-3:\n",
    "        return 4.3e-3\n",
    "    if D > 58e-3 and D <= 65e-3:\n",
    "        return 4.4e-3\n",
    "    if D > 65e-3 and D <= 75e-3:\n",
    "        return 4.9e-3\n",
    "    if D > 75e-3 and D <= 85e-3:\n",
    "        return 5.4e-3\n",
    "    if D > 85e-3 and D <= 95e-3:\n",
    "        return 5.4e-3\n",
    "    if D > 95e-3 and D <= 110e-3:\n",
    "        return 6.4e-3\n",
    "    if D > 110e-3 and D <= 130e-3:\n",
    "        return 7.4e-3\n",
    "    if D > 130e-3 and D <= 150e-3:\n",
    "        return 8.4e-3\n",
    "    if D > 150e-3 and D <= 170e-3:\n",
    "        return 9.4e-3\n",
    "    if D > 170e-3 and D <= 200e-3:\n",
    "        return 10.4e-3\n",
    "    if D > 200e-3 and D <= 230e-3:\n",
    "        return 11.4e-3\n",
    "    if D > 230e-3 and D <= 260e-3:\n",
    "        return 12.4e-3\n",
    "    if D > 260e-3 and D <= 290e-3:\n",
    "        return 12.4e-3\n",
    "    if D > 290e-3 and D <= 330e-3:\n",
    "        return 14.4e-3\n",
    "    if D > 330e-3 and D <= 380e-3:\n",
    "        return 15.4e-3\n",
    "    if D > 380e-3 and D <= 440e-3:\n",
    "        return 17.4e-3\n",
    "    if D > 440e-3 and D <= 500e-3:\n",
    "        return 19.5e-3  "
   ]
  },
  {
   "cell_type": "code",
   "execution_count": 3,
   "metadata": {},
   "outputs": [],
   "source": [
    "Y_Table = dict()\n",
    "Y_Table.update({\n",
    "    '12'  :        .245,\n",
    "    '13'  :        .261,\n",
    "    '14'  :        .277,\n",
    "    '15'  :        .290,\n",
    "    '16'  :        .296,\n",
    "    '17'  :        .303,\n",
    "    '18'  :        .309,\n",
    "    '19'  :        .314,\n",
    "    '20'  :        .322,\n",
    "    '21'  :        .328,\n",
    "    '22'  :        .331,\n",
    "    '24'  :        .337,\n",
    "    '26'  :        .346,\n",
    "    '28'  :        .353,\n",
    "    '30'  :        .359,\n",
    "    '34'  :        .371,\n",
    "    '38'  :        .384,\n",
    "    '43'  :        .397,\n",
    "    '50'  :        .409,\n",
    "    '60'  :        .422,\n",
    "    '75'  :        .435,\n",
    "    '100' :        .447,\n",
    "    '150' :        .460,\n",
    "    '300' :        .472,\n",
    "    '400' :        .480,\n",
    "})"
   ]
  },
  {
   "cell_type": "code",
   "execution_count": 4,
   "metadata": {},
   "outputs": [],
   "source": [
    "CmaTable = dict()\n",
    "CmaTable.update({\n",
    "    'Open gearing':                           {'A': 2.47e-1, 'B': .657e-3, 'C': -1.186e-7},\n",
    "    'Commercial enclosed gearing units':      {'A': 1.27e-1, 'B': .622e-3, 'C': -1.690e-7},\n",
    "    'Precision enclosed gearing units':       {'A': .675e-1, 'B': .504e-3, 'C': -1.440e-7},\n",
    "    'Extra precision enclosed gearing units': {'A': .380e-1, 'B': .402e-3, 'C': -1.270e-7},\n",
    "})"
   ]
  },
  {
   "cell_type": "code",
   "execution_count": 5,
   "metadata": {},
   "outputs": [],
   "source": [
    "def calc(gear):\n",
    "    \n",
    "    ret = True\n",
    "    \n",
    "    if False in [l in gear for l in ['m', 'Z_p', 'D_p'] ]:\n",
    "        if False not in [ j in gear for j in ['m', 'Z_p'] ]:\n",
    "            gear['D_p'] = gear['Z_p'] * gear['m']\n",
    "        elif False not in [ j in gear for j in ['D_p', 'Z_p'] ]:\n",
    "            gear['m'] = gear['D_p'] * gear['Z_p']\n",
    "        elif False not in [ j in gear for j in ['D_p', 'm'] ]:\n",
    "            gear['Z_p'] = gear['D_p'] * gear['m']\n",
    "        else:\n",
    "            ret = False\n",
    "    \n",
    "    if False in [l in gear for l in ['i', 'Z_p', 'Z_c'] ]:\n",
    "        if False not in [j in gear for j in ['Z_p', 'Z_c'] ]:\n",
    "            gear['i'] = gear['Z_c'] / gear['Z_p']\n",
    "        elif False not in [ j in gear for j in ['i', 'Z_p'] ]:\n",
    "            gear['Z_c'] = gear['i'] * gear['Z_p']\n",
    "        elif False not in [ j in gear for j in ['i', 'Z_c'] ]:\n",
    "            gear['Z_p'] = gear['Z_c'] / gear['i']\n",
    "        else:\n",
    "            ret = False\n",
    "    \n",
    "    if False in [l in gear for l in ['V', 'D_p', 'n'] ]:\n",
    "        if False not in [j in gear for j in ['D_p', 'n'] ]:\n",
    "            gear['V'] = math.pi * gear['D_p'] * gear['n']\n",
    "        else:\n",
    "            ret = False\n",
    "    \n",
    "    if False in [l in gear for l in ['m', 'h_t'] ]:\n",
    "        if False not in [j in gear for j in ['m'] ]:\n",
    "            gear['h_t'] = 2.25 * gear['m']\n",
    "        elif False not in [j in gear for j in ['h_t'] ]:\n",
    "            gear['m'] = gear['h_t'] / 2.25\n",
    "        else:\n",
    "            ret = False\n",
    "            \n",
    "    if False in [l in gear for l in ['P', 'V', 'Wt'] ]:\n",
    "        if False not in [j in gear for j in ['P', 'V'] ]:\n",
    "            gear['Wt'] = gear['P'] / gear['V']\n",
    "        elif False not in [j in gear for j in ['P', 'Wt'] ]:\n",
    "            gear['V'] = gear['P'] / gear['Wt']\n",
    "        elif False not in [j in gear for j in ['V', 'Wt'] ]:\n",
    "            gear['P'] = gear['V'] * gear['Wt']\n",
    "        else:\n",
    "            ret = False\n",
    "       \n",
    "    return ret"
   ]
  },
  {
   "cell_type": "code",
   "execution_count": 6,
   "metadata": {},
   "outputs": [],
   "source": [
    "def K_o(gear):\n",
    "    \n",
    "    if False not in [j in gear for j in ['MaqAcionada', 'FontePot'] ]:\n",
    "        tmpMaq = gear['MaqAcionada']\n",
    "        tmpFon = gear['FontePot']\n",
    "    else:\n",
    "        print('Máquina acionada:')\n",
    "        tmpMaq = input()\n",
    "        print('Fonte de potência:')\n",
    "        tmpFon = input()\n",
    "\n",
    "    if tmpMaq == 'Uniforme':\n",
    "        if tmpFon == 'Uniforme':\n",
    "            return 1.\n",
    "        if tmpFon == 'Choque leve':\n",
    "            return 1.25\n",
    "        if tmpFon == 'Choque médio':\n",
    "            return 1.5\n",
    "    if tmpMaq == 'Choques moderados':\n",
    "        if tmpFon == 'Uniforme':\n",
    "            return 1.25\n",
    "        if tmpFon == 'Choque leve':\n",
    "            return 1.5\n",
    "        if tmpFon == 'Choque médio':\n",
    "            return 1.75\n",
    "    if tmpMaq == 'Choques intensos':\n",
    "        if tmpFon == 'Uniforme':\n",
    "            return 1.75\n",
    "        if tmpFon == 'Choque leve':\n",
    "            return 2.\n",
    "        if tmpFon == 'Choque médio':\n",
    "            return 2.25"
   ]
  },
  {
   "cell_type": "code",
   "execution_count": 7,
   "metadata": {},
   "outputs": [],
   "source": [
    "def Q_v(gear):\n",
    "    \n",
    "    if False in [j in gear for j in ['Q_v'] ]:\n",
    "        if False not in [j in gear for j in ['V'] ]:\n",
    "            if gear['V'] >= 0 and gear['V'] < 4:\n",
    "                print('Defina Q_v: (Recomenda-se um valor dentre 6, 7 e 8)')\n",
    "                gear['Q_v'] = int(input())\n",
    "            elif gear['V'] >= 4 and gear['V'] < 11:\n",
    "                print('Defina Q_v: (Recomenda-se um valor dentre 8, 9 e 10)')\n",
    "                gear['Q_v'] = int(input())\n",
    "            elif gear['V'] >= 11 and gear['V'] < 22:\n",
    "                print('Defina Q_v: (Recomenda-se um valor dentre 10, 11 e 12)')\n",
    "                gear['Q_v'] = int(input())\n",
    "            elif gear['V'] >= 22:\n",
    "                print('Defina Q_v: (Recomenda-se um valor dentre 12, 13 e 14)')\n",
    "                gear['Q_v'] = int(input())\n",
    "            else: \n",
    "                return False\n",
    "    else:\n",
    "        return False"
   ]
  },
  {
   "cell_type": "code",
   "execution_count": 8,
   "metadata": {},
   "outputs": [],
   "source": [
    "def K_v(gear):\n",
    "        \n",
    "    if False not in [j in gear for j in ['V', 'Q_v'] ]:\n",
    "        B = .25 * (12 - gear['Q_v']) ** (2 / 3)\n",
    "        A = 50 + 56 * (1 - B)\n",
    "        tmpKv = ( (A + math.sqrt(200 * gear['V'] ) ) / A ) ** B\n",
    "    else:\n",
    "        tmpKv = False\n",
    "    \n",
    "    return tmpKv"
   ]
  },
  {
   "cell_type": "code",
   "execution_count": 9,
   "metadata": {},
   "outputs": [],
   "source": [
    "def Y_Lewis(gear):\n",
    "    if False not in [j in gear for j in ['Z_p'] ] and gear['Z_p'] >= int( min(Y_Table, key = Y_Table.get) ):\n",
    "        gear['Y'] = Y_Table[str(gear['Z_p'])]\n",
    "    else:\n",
    "        return False"
   ]
  },
  {
   "cell_type": "code",
   "execution_count": 10,
   "metadata": {},
   "outputs": [],
   "source": [
    "def K_s(gear):\n",
    "    \n",
    "    Y_Lewis(gear)\n",
    "    \n",
    "    if False not in [j in gear for j in ['b', 'm', 'Y'] ]:\n",
    "        tmpKs = .81 * (gear['b'] * 1e3 * gear['m'] * 1e3 * math.sqrt(gear['Y']) ) ** .0535\n",
    "    else:\n",
    "        tmpKs = False\n",
    "\n",
    "    return tmpKs"
   ]
  },
  {
   "cell_type": "code",
   "execution_count": 11,
   "metadata": {},
   "outputs": [],
   "source": [
    "def C_pf(gear):\n",
    "    #b e D_p devem ser em mm\n",
    "    if False not in [j in gear for j in ['b', 'D_p'] ]:\n",
    "        \n",
    "        tmpB = gear['b'] * 1e3\n",
    "        tmpDp = gear['D_p'] * 1e3\n",
    "        \n",
    "        if tmpB <= 25:\n",
    "            tmpCpf = tmpB / (10 * tmpDp) - .025\n",
    "        if tmpB > 25 and tmpB <= 425:\n",
    "            tmpCpf = tmpB / (10 * tmpDp) - .0375 + 4.92e-4 * tmpB\n",
    "        if tmpB > 425 and tmpB <= 1000:\n",
    "            tmpCpf = tmpB / (10 * tmpDp) - .1109 + 8.15e-4 * tmpB - 3.53e-7 * tmpB ** 2\n",
    "    else:\n",
    "        tmpCpf = False\n",
    "\n",
    "    return tmpCpf"
   ]
  },
  {
   "cell_type": "code",
   "execution_count": 12,
   "metadata": {},
   "outputs": [],
   "source": [
    "def C_ma(gear):\n",
    "    \n",
    "    if False not in [j in gear for j in ['b'] ]:\n",
    "        if False in [j in gear for j in ['Curve'] ]:\n",
    "            print('Qual o tipo de unidade de engrenagens?')\n",
    "            tmpType = input()\n",
    "        else:\n",
    "            tmpType = gear['Curve']\n",
    "        tmpCma = CmaTable[tmpType]['A'] + CmaTable[tmpType]['B'] * gear['b'] * 1e3 + \\\n",
    "                 CmaTable[tmpType]['C'] * (gear['b'] * 1e3) ** 2\n",
    "    else:\n",
    "        tmpCma = False\n",
    "    \n",
    "    return tmpCma"
   ]
  },
  {
   "cell_type": "code",
   "execution_count": 13,
   "metadata": {},
   "outputs": [],
   "source": [
    "def K_H(gear):\n",
    "    \n",
    "    if False in [j in gear for j in ['Ce', 'Cmc', 'Cpm'] ]: \n",
    "        print('Você deseja colocar Cmc, Ce ou Cpm diferentes de 1 (um)? [S/N]')\n",
    "        tmpIn = input()\n",
    "        if tmpIn == 'N':\n",
    "            tmpCmc = tmpCe = tmpCpm = 1\n",
    "        elif tmpIn == 'S':\n",
    "            print('Cmc: ')\n",
    "            tmpCmc = float( input() )\n",
    "            print('Ce: ')\n",
    "            tmpCe  = float( input() )\n",
    "            print('Cpm: ')\n",
    "            tmpCpm = float( input() )\n",
    "    else:\n",
    "        tmpCmc = gear['Cmc']\n",
    "        tmpCe = gear['Ce']\n",
    "        tmpCpm = gear['Cpm']\n",
    "\n",
    "    tmpCpf = C_pf(gear)\n",
    "    tmpCma = C_ma(gear)\n",
    "    tmpKH = 1 + tmpCmc * (tmpCpf * tmpCpm + tmpCma * tmpCe)\n",
    "    \n",
    "    return tmpKH"
   ]
  },
  {
   "cell_type": "code",
   "execution_count": 14,
   "metadata": {},
   "outputs": [],
   "source": [
    "def holeDiameter(gear):\n",
    "    tR_min = 1.2 * gear['h_t']\n",
    "    D_R = gear['D_p'] - 2.5 * gear['m']\n",
    "    tR = tR_min\n",
    "    j = 0\n",
    "    while j == 0 or tR >= tR_min:\n",
    "        D_h = D_R - 2. * tR\n",
    "        t_2 = keyway_t2(D_h)\n",
    "        D_k = D_h + 2. * t_2\n",
    "        tR  = .5 * (D_R - D_k)\n",
    "        j   = j + 1\n",
    "\n",
    "    return D_h, D_k, tR, tR_min"
   ]
  },
  {
   "cell_type": "code",
   "execution_count": 15,
   "metadata": {},
   "outputs": [],
   "source": [
    "def K_B(gear):\n",
    "    \n",
    "    if False in [j in gear for j in ['K_B'] ]: \n",
    "        if False in [j in gear for j in ['t_R'] ]:\n",
    "            print('Qual a espessura da borda? [em mm]')\n",
    "            tmpIn = float( input() )\n",
    "            gear['t_R'] = tmpIn\n",
    "\n",
    "        elif False not in [j in gear for j in ['t_R', 'h_t'] ]:\n",
    "            _mB = gear['t_R'] / gear['h_t']\n",
    "            \n",
    "        else:\n",
    "            tmpKB = False\n",
    "            \n",
    "        if _mB < 1.2:\n",
    "            tmpKB = 1.6 * math.log(2.242 / _mB)\n",
    "        else:\n",
    "            tmpKB = 1\n",
    "            \n",
    "    elif gear['K_B'] == 1.:\n",
    "        if False not in [j in gear for j in ['t_R'] ]:\n",
    "            tmpKB = False\n",
    "            \n",
    "        elif False not in [j in gear for j in ['h_t'] ]:\n",
    "            tmpKB = gear['K_B']\n",
    "    else:\n",
    "        tmpKB = False\n",
    "    return tmpKB"
   ]
  },
  {
   "cell_type": "code",
   "execution_count": 16,
   "metadata": {},
   "outputs": [],
   "source": [
    "def σ_root(gear):\n",
    "    \n",
    "    ret = True\n",
    "    \n",
    "    if False not in [j in gear for j in ['Wt', 'b', 'J', 'm'] ]:\n",
    "        \n",
    "        if False not in [j in gear['Factors'] for j in ['K_o', 'K_v', 'K_s', 'K_H', 'K_B'] ]:\n",
    "            _σ = gear['Wt'] * gear['Factors']['K_o'] * gear['Factors']['K_v'] * \\\n",
    "                 gear['Factors']['K_s'] * gear['Factors']['K_H'] * gear['Factors']['K_B'] / \\\n",
    "                 ( gear['b'] * gear['m'] * gear['J'] )\n",
    "            \n",
    "            gear['σ_f'] = _σ * 1e-6\n",
    "            ret = _σ * 1e-6\n",
    "        else:\n",
    "            print('Fatores com problema')\n",
    "            ret = False\n",
    "    else:\n",
    "        \n",
    "        print('Sem Wt, b, J e/ou m')\n",
    "        ret = False\n",
    "        \n",
    "    return ret"
   ]
  },
  {
   "cell_type": "code",
   "execution_count": 17,
   "metadata": {},
   "outputs": [],
   "source": [
    "def Z_R(gear):\n",
    "    return 1"
   ]
  },
  {
   "cell_type": "code",
   "execution_count": 18,
   "metadata": {},
   "outputs": [],
   "source": [
    "def Z_I(gear):\n",
    "    _mG = gear['i']\n",
    "    _mN = 1\n",
    "    if gear['Gear'] == 'External':\n",
    "        _ZI = math.cos(gear['θ']) * math.sin(gear['θ']) * _mG / (2 * _mN * (_mG + 1) )\n",
    "    elif gear['Gear'] == 'Internal':\n",
    "        _ZI = math.cos(gear['θ']) * math.sin(gear['θ']) * _mG / (2 * _mN * (_mG - 1) )\n",
    "    else:\n",
    "        _ZI = False\n",
    "    return _ZI        "
   ]
  },
  {
   "cell_type": "code",
   "execution_count": 19,
   "metadata": {},
   "outputs": [],
   "source": [
    "def σ_contact(gear):\n",
    "    \n",
    "    ret = True\n",
    "    \n",
    "    if False not in [j in gear for j in ['Wt', 'b', 'D_p'] ]:\n",
    "        \n",
    "        if False not in [j in gear['Factors'] for j in ['K_o', 'K_v', 'K_s', 'K_H', 'Z_R', 'Z_I', 'Z_E'] ]:\n",
    "            \n",
    "            _σ = gear['Z_E'] * math.sqrt( gear['Wt'] * gear['Factors']['K_o'] * gear['Factors']['K_v'] * \\\n",
    "                                          gear['Factors']['K_s'] * gear['Factors']['K_H'] * gear['Factors']['Z_R'] / \\\n",
    "                                          ( gear['D_p'] * 1e3 * gear['b'] * 1e3 * gear['Factors']['Z_I'] )\n",
    "                                        )  \n",
    "            gear['σ_c'] = _σ\n",
    "            ret = _σ\n",
    "        else:\n",
    "            print('Fatores com problema')\n",
    "            ret = False\n",
    "    else:\n",
    "        \n",
    "        print('Sem Wt, b, e/ou D_p')\n",
    "        ret = False\n",
    "        \n",
    "    return ret"
   ]
  },
  {
   "cell_type": "code",
   "execution_count": 20,
   "metadata": {},
   "outputs": [],
   "source": [
    "def Y_N(gear):\n",
    "    _N = 60 * (gear['n'] * 60) * gear['L'] * gear['q']\n",
    "    _YN = 1.3558 * _N ** (-.0178)\n",
    "    return _YN, _N"
   ]
  },
  {
   "cell_type": "code",
   "execution_count": 21,
   "metadata": {},
   "outputs": [],
   "source": [
    "def Y_Z(gear):\n",
    "    if gear['R'] == .9999:\n",
    "        return 1.5\n",
    "    elif gear['R'] == .999:\n",
    "        return 1.25\n",
    "    elif gear['R'] == .99:\n",
    "        return 1.\n",
    "    elif gear['R'] == .9:\n",
    "        return .85\n",
    "    elif gear['R'] == .5:\n",
    "        return .7"
   ]
  },
  {
   "cell_type": "code",
   "execution_count": 22,
   "metadata": {},
   "outputs": [],
   "source": [
    "def Z_N(gear):\n",
    "    _N = 60 * (gear['n'] * 60) * gear['L'] * gear['q']\n",
    "    _ZN = 1.4488 * _N ** (-.023)\n",
    "    return _ZN"
   ]
  },
  {
   "cell_type": "code",
   "execution_count": 23,
   "metadata": {},
   "outputs": [],
   "source": [
    "def calcFactors(gear):\n",
    "    tmpFactors = dict()\n",
    "    \n",
    "    Q_v(gear)\n",
    "    Y_Lewis\n",
    "    \n",
    "    tmpFactors['K_o'] = K_o(gear)\n",
    "    tmpFactors['K_v'] = K_v(gear)\n",
    "    tmpFactors['K_s'] = K_s(gear)\n",
    "    tmpFactors['K_H'] = K_H(gear)\n",
    "    tmpFactors['K_B'] = K_B(gear)\n",
    "    tmpFactors['Z_E'] = gear['Z_E']\n",
    "    tmpFactors['Z_I'] = Z_I(gear)\n",
    "    tmpFactors['Z_R'] = Z_R(gear)\n",
    "    tmpFactors['Y_N'] = Y_N(gear)[0]\n",
    "    tmpFactors['N']   = Y_N(gear)[1]\n",
    "    tmpFactors['Y_Z'] = Y_Z(gear)\n",
    "    tmpFactors['Z_N'] = Z_N(gear)\n",
    "\n",
    "    gear['Factors'] = tmpFactors"
   ]
  },
  {
   "cell_type": "code",
   "execution_count": 24,
   "metadata": {},
   "outputs": [],
   "source": [
    "def safetyFactor(gear):\n",
    "    if False not in [l in gear for l in ['S_H', 'S_F'] ]:\n",
    "        gear['S_c_prime'] = gear['S_H'] * gear['σ_c']\n",
    "        gear['S_t_prime'] = gear['S_F'] * gear['σ_f']\n",
    "        return True\n",
    "    elif False not in [l in gear for l in ['S_c_prime', 'S_t_prime'] ]:\n",
    "        gear['S_H'] = gear['S_c_prime'] / gear['σ_c']\n",
    "        gear['S_F'] = gear['S_t_prime'] / gear['σ_f']\n",
    "        return True\n",
    "    else:\n",
    "        return False"
   ]
  },
  {
   "cell_type": "code",
   "execution_count": 25,
   "metadata": {},
   "outputs": [],
   "source": [
    "def admStress(gear):\n",
    "    if False not in [l in gear for l in ['S_c_prime', 'S_t_prime'] ]:\n",
    "        gear['S_t'] = gear['S_t_prime'] * gear['Factors']['Y_Z'] / gear['Factors']['Y_N']\n",
    "        gear['S_c'] = gear['S_c_prime'] * gear['Factors']['Y_Z'] / gear['Factors']['Z_N']\n",
    "        return True\n",
    "    elif False not in [l in gear for l in ['S_c', 'S_t'] ]:\n",
    "        gear['S_t_prime'] = gear['S_t'] * gear['Factors']['Y_N'] / gear['Factors']['Y_Z']\n",
    "        gear['S_c_prime'] = gear['S_c'] * gear['Factors']['Z_N'] / gear['Factors']['Y_Z']\n",
    "        return True\n",
    "    else:\n",
    "        return False"
   ]
  },
  {
   "cell_type": "code",
   "execution_count": 26,
   "metadata": {},
   "outputs": [],
   "source": [
    "#If you give K_B, don't give t_R, as this will be a function of your K_B\n",
    "\n",
    "_Zp = 20   #teeth\n",
    "i   = 3.5\n",
    "_m  = 4. #mm\n",
    "_b  = 60   #mm\n",
    "_P  = 19   #kW\n",
    "_n  = 1750 #RPM\n",
    "_J = .336\n",
    "_θ = 20\n",
    "_Qv = 9\n",
    "\n",
    "_L = 3 * 365 * 24 #hours\n",
    "_q = 1 #contatos por rev\n",
    "_R = .999\n",
    "\n",
    "_St = 380\n",
    "_Sc = 1240\n",
    "\n",
    "#DO NOT FORGET TO FEED IT W/ Z_E\n",
    "_ZE = 191"
   ]
  },
  {
   "cell_type": "code",
   "execution_count": 27,
   "metadata": {},
   "outputs": [],
   "source": [
    "β = dict()\n",
    "β.update({\n",
    "    'Z_p'        : _Zp,\n",
    "    'm'          : _m * 1e-3,\n",
    "    'b'          : _b * 1e-3,\n",
    "    'P'          : _P * 1e3,\n",
    "    'n'          : _n / 60,\n",
    "    'J'          : _J,\n",
    "    'i'          : i,\n",
    "    'MaqAcionada': 'Choques intensos',\n",
    "    'FontePot'   : 'Uniforme',\n",
    "    'Curve': 'Commercial enclosed gearing units',\n",
    "    'Gear': 'External',\n",
    "    'Ce': 1,\n",
    "    'K_B': 1.,\n",
    "    'Q_v': _Qv,\n",
    "    'θ' : math.radians(_θ),\n",
    "    'Z_E': _ZE,\n",
    "    'L': _L,\n",
    "    'q': _q,\n",
    "    'R': _R,\n",
    "    'S_t': _St,\n",
    "    'S_c': _Sc,\n",
    "})\n",
    "β['Cmc'] = β['Ce']\n",
    "β['Cpm'] = β['Ce']"
   ]
  },
  {
   "cell_type": "code",
   "execution_count": 28,
   "metadata": {},
   "outputs": [
    {
     "data": {
      "text/plain": [
       "True"
      ]
     },
     "execution_count": 28,
     "metadata": {},
     "output_type": "execute_result"
    }
   ],
   "source": [
    "calc(β)"
   ]
  },
  {
   "cell_type": "code",
   "execution_count": 29,
   "metadata": {},
   "outputs": [
    {
     "data": {
      "text/plain": [
       "{'Z_p': 20,\n",
       " 'm': 0.004,\n",
       " 'b': 0.06,\n",
       " 'P': 19000.0,\n",
       " 'n': 29.166666666666668,\n",
       " 'J': 0.336,\n",
       " 'i': 3.5,\n",
       " 'MaqAcionada': 'Choques intensos',\n",
       " 'FontePot': 'Uniforme',\n",
       " 'Curve': 'Commercial enclosed gearing units',\n",
       " 'Gear': 'External',\n",
       " 'Ce': 1,\n",
       " 'K_B': 1.0,\n",
       " 'Q_v': 9,\n",
       " 'θ': 0.3490658503988659,\n",
       " 'Z_E': 191,\n",
       " 'L': 26280,\n",
       " 'q': 1,\n",
       " 'R': 0.999,\n",
       " 'S_t': 380,\n",
       " 'S_c': 1240,\n",
       " 'Cmc': 1,\n",
       " 'Cpm': 1,\n",
       " 'D_p': 0.08,\n",
       " 'Z_c': 70.0,\n",
       " 'V': 7.3303828583761845,\n",
       " 'h_t': 0.009000000000000001,\n",
       " 'Wt': 2591.951930353724}"
      ]
     },
     "execution_count": 29,
     "metadata": {},
     "output_type": "execute_result"
    }
   ],
   "source": [
    "β"
   ]
  },
  {
   "cell_type": "code",
   "execution_count": 30,
   "metadata": {},
   "outputs": [],
   "source": [
    "calcFactors(β)"
   ]
  },
  {
   "cell_type": "code",
   "execution_count": 31,
   "metadata": {},
   "outputs": [
    {
     "data": {
      "text/plain": [
       "{'K_o': 1.75,\n",
       " 'K_v': 1.2338919284516983,\n",
       " 'K_s': 1.0535653158131573,\n",
       " 'K_H': 1.2307316,\n",
       " 'K_B': 1.0,\n",
       " 'Z_E': 191,\n",
       " 'Z_I': 0.12498647966127154,\n",
       " 'Z_R': 1,\n",
       " 'Y_N': 0.920765691242838,\n",
       " 'N': 2759400000.0,\n",
       " 'Y_Z': 1.25,\n",
       " 'Z_N': 0.8787588263010239}"
      ]
     },
     "execution_count": 31,
     "metadata": {},
     "output_type": "execute_result"
    }
   ],
   "source": [
    "β['Factors']"
   ]
  },
  {
   "cell_type": "code",
   "execution_count": 32,
   "metadata": {},
   "outputs": [
    {
     "data": {
      "text/plain": [
       "(89.99459198386927, 664.3006788732094)"
      ]
     },
     "execution_count": 32,
     "metadata": {},
     "output_type": "execute_result"
    }
   ],
   "source": [
    "σ_root(β), σ_contact(β)"
   ]
  },
  {
   "cell_type": "code",
   "execution_count": 33,
   "metadata": {},
   "outputs": [
    {
     "data": {
      "text/plain": [
       "(True, 871.7287556906156, 279.9127701378228)"
      ]
     },
     "execution_count": 33,
     "metadata": {},
     "output_type": "execute_result"
    }
   ],
   "source": [
    "admStress(β), β['S_c_prime'], β['S_t_prime']"
   ]
  },
  {
   "cell_type": "code",
   "execution_count": 34,
   "metadata": {},
   "outputs": [
    {
     "data": {
      "text/plain": [
       "(True, 1.3122502857730731, 3.110328787178619)"
      ]
     },
     "execution_count": 34,
     "metadata": {},
     "output_type": "execute_result"
    }
   ],
   "source": [
    "safetyFactor(β), β['S_H'], β['S_F']"
   ]
  },
  {
   "cell_type": "code",
   "execution_count": null,
   "metadata": {},
   "outputs": [],
   "source": []
  }
 ],
 "metadata": {
  "kernelspec": {
   "display_name": "Python 3",
   "language": "python",
   "name": "python3"
  },
  "language_info": {
   "codemirror_mode": {
    "name": "ipython",
    "version": 3
   },
   "file_extension": ".py",
   "mimetype": "text/x-python",
   "name": "python",
   "nbconvert_exporter": "python",
   "pygments_lexer": "ipython3",
   "version": "3.7.6"
  }
 },
 "nbformat": 4,
 "nbformat_minor": 2
}
